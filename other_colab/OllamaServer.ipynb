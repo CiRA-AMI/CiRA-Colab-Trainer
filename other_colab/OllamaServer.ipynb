{
  "nbformat": 4,
  "nbformat_minor": 0,
  "metadata": {
    "colab": {
      "provenance": [],
      "gpuType": "T4",
      "include_colab_link": true
    },
    "kernelspec": {
      "name": "python3",
      "display_name": "Python 3"
    },
    "language_info": {
      "name": "python"
    },
    "accelerator": "GPU"
  },
  "cells": [
    {
      "cell_type": "markdown",
      "metadata": {
        "id": "view-in-github",
        "colab_type": "text"
      },
      "source": [
        "<a href=\"https://colab.research.google.com/github/CiRA-AMI/cira-colab-trainer/blob/main/other_colab/OllamaServer.ipynb\" target=\"_parent\"><img src=\"https://colab.research.google.com/assets/colab-badge.svg\" alt=\"Open In Colab\"/></a>"
      ]
    },
    {
      "cell_type": "code",
      "execution_count": null,
      "metadata": {
        "id": "ZFemjxWwHgTQ"
      },
      "outputs": [],
      "source": [
        "!curl -fsSL https://ollama.com/install.sh | sh"
      ]
    },
    {
      "cell_type": "code",
      "source": [
        "%%capture\n",
        "!npm install -g localtunnel\n",
        "!nohup lt -p 11434 > lt_out.log 2>&1 &"
      ],
      "metadata": {
        "id": "dAzeeCs3HpIN"
      },
      "execution_count": null,
      "outputs": []
    },
    {
      "cell_type": "code",
      "source": [
        "!OLLAMA_HOST=0.0.0.0 OLLAMA_KEEP_ALIVE=-1 nohup ollama serve > ollama_out.log 2>&1 &\n",
        "!sleep 5s"
      ],
      "metadata": {
        "id": "8k4CpOQzHtGZ"
      },
      "execution_count": null,
      "outputs": []
    },
    {
      "cell_type": "code",
      "source": [
        "!ollama pull llama3.2-vision 2>&1 | grep -v 'pulling manifest' | tail -n 3"
      ],
      "metadata": {
        "id": "sRRCNedaHuLv"
      },
      "execution_count": null,
      "outputs": []
    },
    {
      "cell_type": "code",
      "source": [
        "!ollama list"
      ],
      "metadata": {
        "id": "Xyp8pRNUH2ya"
      },
      "execution_count": null,
      "outputs": []
    },
    {
      "cell_type": "code",
      "source": [
        "!cat lt_out.log"
      ],
      "metadata": {
        "id": "hU2mgJt1H27g"
      },
      "execution_count": null,
      "outputs": []
    },
    {
      "cell_type": "code",
      "source": [
        "!curl https://loca.lt/mytunnelpassword"
      ],
      "metadata": {
        "id": "Fwjyn4NlH3C-"
      },
      "execution_count": null,
      "outputs": []
    }
  ]
}